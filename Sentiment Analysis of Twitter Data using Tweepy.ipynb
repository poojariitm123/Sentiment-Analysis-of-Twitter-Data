{
 "cells": [
  {
   "cell_type": "code",
   "execution_count": 3,
   "metadata": {},
   "outputs": [],
   "source": [
    "#Importing libraries for sentiment analysis\n",
    "\n",
    "import tweepy        \n",
    "import pandas as pd  \n",
    "import numpy as np   \n",
    "\n",
    "\n",
    "#For plotting and visualization\n",
    "\n",
    "from IPython.display import display\n",
    "import matplotlib.pyplot as plt\n",
    "import seaborn as sns\n",
    "\n",
    "%matplotlib inline"
   ]
  },
  {
   "cell_type": "code",
   "execution_count": 6,
   "metadata": {},
   "outputs": [],
   "source": [
    "# We import our access keys:\n",
    "from credential import *    # This will allow us to use the keys as variables\n",
    "\n",
    "# API's setup:\n",
    "def twitter_setup():\n",
    "    \"\"\"\n",
    "    Utility function to setup the Twitter's API\n",
    "    with our access keys provided.\n",
    "    \"\"\"\n",
    "    # Authentication and access using keys:\n",
    "    auth = tweepy.OAuthHandler(consumer_key, consumer_secret)\n",
    "    auth.set_access_token(access_token, access_key)\n",
    "\n",
    "    # Return API with authentication:\n",
    "    api = tweepy.API(auth)\n",
    "    return api"
   ]
  },
  {
   "cell_type": "code",
   "execution_count": 7,
   "metadata": {},
   "outputs": [
    {
     "name": "stdout",
     "output_type": "stream",
     "text": [
      "Number of tweets extracted: 200.\n",
      "\n",
      "5 recent tweets:\n",
      "\n",
      "....between our two countries. I look forward to continuing those discussions after the Israeli Elections when we m… https://t.co/QXy0OiGPpo\n",
      "\n",
      "I had a call today with Prime Minister Netanyahu to discuss the possibility of moving forward with a Mutual Defense… https://t.co/DSJfqyZLf0\n",
      "\n",
      "RT @RepDougCollins: #FISA oversight falls squarely within the Judiciary Committee’s jurisdiction. We must address concerns outlined in the…\n",
      "\n",
      "RT @RepMarkMeadows: The IG report on potential FISA abuse is complete. Now being reviewed. Huge.\n",
      "\n",
      "Documents we’ve seen leave little to zero…\n",
      "\n",
      "KEEP AMERICA GREAT!\n",
      "\n"
     ]
    }
   ],
   "source": [
    "# We create an extractor object:\n",
    "extractor = twitter_setup()\n",
    "\n",
    "# We create a tweet list as follows:\n",
    "tweets = extractor.user_timeline(screen_name=\"realDonaldTrump\", count=200)\n",
    "print(\"Number of tweets extracted: {}.\\n\".format(len(tweets)))\n",
    "\n",
    "# We print the most recent 5 tweets:\n",
    "print(\"5 recent tweets:\\n\")\n",
    "for tweet in tweets[:5]:\n",
    "    print(tweet.text)\n",
    "    print()"
   ]
  },
  {
   "cell_type": "code",
   "execution_count": 8,
   "metadata": {},
   "outputs": [
    {
     "data": {
      "text/html": [
       "<div>\n",
       "<style scoped>\n",
       "    .dataframe tbody tr th:only-of-type {\n",
       "        vertical-align: middle;\n",
       "    }\n",
       "\n",
       "    .dataframe tbody tr th {\n",
       "        vertical-align: top;\n",
       "    }\n",
       "\n",
       "    .dataframe thead th {\n",
       "        text-align: right;\n",
       "    }\n",
       "</style>\n",
       "<table border=\"1\" class=\"dataframe\">\n",
       "  <thead>\n",
       "    <tr style=\"text-align: right;\">\n",
       "      <th></th>\n",
       "      <th>Tweets</th>\n",
       "    </tr>\n",
       "  </thead>\n",
       "  <tbody>\n",
       "    <tr>\n",
       "      <th>0</th>\n",
       "      <td>....between our two countries. I look forward ...</td>\n",
       "    </tr>\n",
       "    <tr>\n",
       "      <th>1</th>\n",
       "      <td>I had a call today with Prime Minister Netanya...</td>\n",
       "    </tr>\n",
       "    <tr>\n",
       "      <th>2</th>\n",
       "      <td>RT @RepDougCollins: #FISA oversight falls squa...</td>\n",
       "    </tr>\n",
       "    <tr>\n",
       "      <th>3</th>\n",
       "      <td>RT @RepMarkMeadows: The IG report on potential...</td>\n",
       "    </tr>\n",
       "    <tr>\n",
       "      <th>4</th>\n",
       "      <td>KEEP AMERICA GREAT!</td>\n",
       "    </tr>\n",
       "    <tr>\n",
       "      <th>5</th>\n",
       "      <td>MAKE AMERICA GREAT AGAIN!</td>\n",
       "    </tr>\n",
       "    <tr>\n",
       "      <th>6</th>\n",
       "      <td>94% Approval Rating in the Republican Party! T...</td>\n",
       "    </tr>\n",
       "    <tr>\n",
       "      <th>7</th>\n",
       "      <td>RT @realDonaldTrump: The two big Congressional...</td>\n",
       "    </tr>\n",
       "    <tr>\n",
       "      <th>8</th>\n",
       "      <td>Who the hell is Joy-Ann Reid? Never met her, s...</td>\n",
       "    </tr>\n",
       "    <tr>\n",
       "      <th>9</th>\n",
       "      <td>“A Very Stable Genius!” Thank you.</td>\n",
       "    </tr>\n",
       "  </tbody>\n",
       "</table>\n",
       "</div>"
      ],
      "text/plain": [
       "                                              Tweets\n",
       "0  ....between our two countries. I look forward ...\n",
       "1  I had a call today with Prime Minister Netanya...\n",
       "2  RT @RepDougCollins: #FISA oversight falls squa...\n",
       "3  RT @RepMarkMeadows: The IG report on potential...\n",
       "4                                KEEP AMERICA GREAT!\n",
       "5                          MAKE AMERICA GREAT AGAIN!\n",
       "6  94% Approval Rating in the Republican Party! T...\n",
       "7  RT @realDonaldTrump: The two big Congressional...\n",
       "8  Who the hell is Joy-Ann Reid? Never met her, s...\n",
       "9                 “A Very Stable Genius!” Thank you."
      ]
     },
     "metadata": {},
     "output_type": "display_data"
    }
   ],
   "source": [
    "# We create a pandas dataframe as follows:\n",
    "data = pd.DataFrame(data=[tweet.text for tweet in tweets], columns=['Tweets'])\n",
    "\n",
    "# We display the first 10 elements of the dataframe:\n",
    "display(data.head(10))"
   ]
  },
  {
   "cell_type": "code",
   "execution_count": 9,
   "metadata": {},
   "outputs": [
    {
     "name": "stdout",
     "output_type": "stream",
     "text": [
      "['__class__', '__delattr__', '__dict__', '__dir__', '__doc__', '__eq__', '__format__', '__ge__', '__getattribute__', '__getstate__', '__gt__', '__hash__', '__init__', '__init_subclass__', '__le__', '__lt__', '__module__', '__ne__', '__new__', '__reduce__', '__reduce_ex__', '__repr__', '__setattr__', '__sizeof__', '__str__', '__subclasshook__', '__weakref__', '_api', '_json', 'author', 'contributors', 'coordinates', 'created_at', 'destroy', 'entities', 'favorite', 'favorite_count', 'favorited', 'geo', 'id', 'id_str', 'in_reply_to_screen_name', 'in_reply_to_status_id', 'in_reply_to_status_id_str', 'in_reply_to_user_id', 'in_reply_to_user_id_str', 'is_quote_status', 'lang', 'parse', 'parse_list', 'place', 'retweet', 'retweet_count', 'retweeted', 'retweets', 'source', 'source_url', 'text', 'truncated', 'user']\n"
     ]
    }
   ],
   "source": [
    "# Internal methods of a single tweet object:\n",
    "print(dir(tweets[0]))"
   ]
  },
  {
   "cell_type": "code",
   "execution_count": 10,
   "metadata": {},
   "outputs": [
    {
     "name": "stdout",
     "output_type": "stream",
     "text": [
      "1172887122757525504\n",
      "2019-09-14 14:57:35\n",
      "Twitter for iPhone\n",
      "26125\n",
      "5542\n",
      "None\n",
      "None\n",
      "{'hashtags': [], 'symbols': [], 'user_mentions': [], 'urls': [{'url': 'https://t.co/QXy0OiGPpo', 'expanded_url': 'https://twitter.com/i/web/status/1172887122757525504', 'display_url': 'twitter.com/i/web/status/1…', 'indices': [117, 140]}]}\n"
     ]
    }
   ],
   "source": [
    "# We print info from the first tweet:\n",
    "print(tweets[0].id)\n",
    "print(tweets[0].created_at)\n",
    "print(tweets[0].source)\n",
    "print(tweets[0].favorite_count)\n",
    "print(tweets[0].retweet_count)\n",
    "print(tweets[0].geo)\n",
    "print(tweets[0].coordinates)\n",
    "print(tweets[0].entities)"
   ]
  },
  {
   "cell_type": "code",
   "execution_count": 11,
   "metadata": {},
   "outputs": [],
   "source": [
    "# We add relevant data:\n",
    "data['len']  = np.array([len(tweet.text) for tweet in tweets])\n",
    "data['ID']   = np.array([tweet.id for tweet in tweets])\n",
    "data['Date'] = np.array([tweet.created_at for tweet in tweets])\n",
    "data['Source'] = np.array([tweet.source for tweet in tweets])\n",
    "data['Likes']  = np.array([tweet.favorite_count for tweet in tweets])\n",
    "data['RTs']    = np.array([tweet.retweet_count for tweet in tweets])"
   ]
  },
  {
   "cell_type": "code",
   "execution_count": 12,
   "metadata": {},
   "outputs": [
    {
     "data": {
      "text/html": [
       "<div>\n",
       "<style scoped>\n",
       "    .dataframe tbody tr th:only-of-type {\n",
       "        vertical-align: middle;\n",
       "    }\n",
       "\n",
       "    .dataframe tbody tr th {\n",
       "        vertical-align: top;\n",
       "    }\n",
       "\n",
       "    .dataframe thead th {\n",
       "        text-align: right;\n",
       "    }\n",
       "</style>\n",
       "<table border=\"1\" class=\"dataframe\">\n",
       "  <thead>\n",
       "    <tr style=\"text-align: right;\">\n",
       "      <th></th>\n",
       "      <th>Tweets</th>\n",
       "      <th>len</th>\n",
       "      <th>ID</th>\n",
       "      <th>Date</th>\n",
       "      <th>Source</th>\n",
       "      <th>Likes</th>\n",
       "      <th>RTs</th>\n",
       "    </tr>\n",
       "  </thead>\n",
       "  <tbody>\n",
       "    <tr>\n",
       "      <th>0</th>\n",
       "      <td>....between our two countries. I look forward ...</td>\n",
       "      <td>140</td>\n",
       "      <td>1172887122757525504</td>\n",
       "      <td>2019-09-14 14:57:35</td>\n",
       "      <td>Twitter for iPhone</td>\n",
       "      <td>26125</td>\n",
       "      <td>5542</td>\n",
       "    </tr>\n",
       "    <tr>\n",
       "      <th>1</th>\n",
       "      <td>I had a call today with Prime Minister Netanya...</td>\n",
       "      <td>140</td>\n",
       "      <td>1172887121704706048</td>\n",
       "      <td>2019-09-14 14:57:35</td>\n",
       "      <td>Twitter for iPhone</td>\n",
       "      <td>33052</td>\n",
       "      <td>7668</td>\n",
       "    </tr>\n",
       "    <tr>\n",
       "      <th>2</th>\n",
       "      <td>RT @RepDougCollins: #FISA oversight falls squa...</td>\n",
       "      <td>139</td>\n",
       "      <td>1172874441531043840</td>\n",
       "      <td>2019-09-14 14:07:12</td>\n",
       "      <td>Twitter for iPhone</td>\n",
       "      <td>0</td>\n",
       "      <td>6840</td>\n",
       "    </tr>\n",
       "    <tr>\n",
       "      <th>3</th>\n",
       "      <td>RT @RepMarkMeadows: The IG report on potential...</td>\n",
       "      <td>140</td>\n",
       "      <td>1172874318625280002</td>\n",
       "      <td>2019-09-14 14:06:43</td>\n",
       "      <td>Twitter for iPhone</td>\n",
       "      <td>0</td>\n",
       "      <td>7386</td>\n",
       "    </tr>\n",
       "    <tr>\n",
       "      <th>4</th>\n",
       "      <td>KEEP AMERICA GREAT!</td>\n",
       "      <td>19</td>\n",
       "      <td>1172860069760946178</td>\n",
       "      <td>2019-09-14 13:10:05</td>\n",
       "      <td>Twitter for iPhone</td>\n",
       "      <td>58927</td>\n",
       "      <td>12322</td>\n",
       "    </tr>\n",
       "    <tr>\n",
       "      <th>5</th>\n",
       "      <td>MAKE AMERICA GREAT AGAIN!</td>\n",
       "      <td>25</td>\n",
       "      <td>1172859963963822080</td>\n",
       "      <td>2019-09-14 13:09:40</td>\n",
       "      <td>Twitter for iPhone</td>\n",
       "      <td>118675</td>\n",
       "      <td>22142</td>\n",
       "    </tr>\n",
       "    <tr>\n",
       "      <th>6</th>\n",
       "      <td>94% Approval Rating in the Republican Party! T...</td>\n",
       "      <td>140</td>\n",
       "      <td>1172859771575328768</td>\n",
       "      <td>2019-09-14 13:08:54</td>\n",
       "      <td>Twitter for iPhone</td>\n",
       "      <td>36028</td>\n",
       "      <td>7679</td>\n",
       "    </tr>\n",
       "    <tr>\n",
       "      <th>7</th>\n",
       "      <td>RT @realDonaldTrump: The two big Congressional...</td>\n",
       "      <td>140</td>\n",
       "      <td>1172858789265072137</td>\n",
       "      <td>2019-09-14 13:05:00</td>\n",
       "      <td>Twitter for iPhone</td>\n",
       "      <td>0</td>\n",
       "      <td>17939</td>\n",
       "    </tr>\n",
       "    <tr>\n",
       "      <th>8</th>\n",
       "      <td>Who the hell is Joy-Ann Reid? Never met her, s...</td>\n",
       "      <td>140</td>\n",
       "      <td>1172858577951821825</td>\n",
       "      <td>2019-09-14 13:04:10</td>\n",
       "      <td>Twitter for iPhone</td>\n",
       "      <td>49038</td>\n",
       "      <td>11165</td>\n",
       "    </tr>\n",
       "    <tr>\n",
       "      <th>9</th>\n",
       "      <td>“A Very Stable Genius!” Thank you.</td>\n",
       "      <td>34</td>\n",
       "      <td>1172853679642333185</td>\n",
       "      <td>2019-09-14 12:44:42</td>\n",
       "      <td>Twitter for iPhone</td>\n",
       "      <td>44166</td>\n",
       "      <td>9380</td>\n",
       "    </tr>\n",
       "  </tbody>\n",
       "</table>\n",
       "</div>"
      ],
      "text/plain": [
       "                                              Tweets  len  \\\n",
       "0  ....between our two countries. I look forward ...  140   \n",
       "1  I had a call today with Prime Minister Netanya...  140   \n",
       "2  RT @RepDougCollins: #FISA oversight falls squa...  139   \n",
       "3  RT @RepMarkMeadows: The IG report on potential...  140   \n",
       "4                                KEEP AMERICA GREAT!   19   \n",
       "5                          MAKE AMERICA GREAT AGAIN!   25   \n",
       "6  94% Approval Rating in the Republican Party! T...  140   \n",
       "7  RT @realDonaldTrump: The two big Congressional...  140   \n",
       "8  Who the hell is Joy-Ann Reid? Never met her, s...  140   \n",
       "9                 “A Very Stable Genius!” Thank you.   34   \n",
       "\n",
       "                    ID                Date              Source   Likes    RTs  \n",
       "0  1172887122757525504 2019-09-14 14:57:35  Twitter for iPhone   26125   5542  \n",
       "1  1172887121704706048 2019-09-14 14:57:35  Twitter for iPhone   33052   7668  \n",
       "2  1172874441531043840 2019-09-14 14:07:12  Twitter for iPhone       0   6840  \n",
       "3  1172874318625280002 2019-09-14 14:06:43  Twitter for iPhone       0   7386  \n",
       "4  1172860069760946178 2019-09-14 13:10:05  Twitter for iPhone   58927  12322  \n",
       "5  1172859963963822080 2019-09-14 13:09:40  Twitter for iPhone  118675  22142  \n",
       "6  1172859771575328768 2019-09-14 13:08:54  Twitter for iPhone   36028   7679  \n",
       "7  1172858789265072137 2019-09-14 13:05:00  Twitter for iPhone       0  17939  \n",
       "8  1172858577951821825 2019-09-14 13:04:10  Twitter for iPhone   49038  11165  \n",
       "9  1172853679642333185 2019-09-14 12:44:42  Twitter for iPhone   44166   9380  "
      ]
     },
     "metadata": {},
     "output_type": "display_data"
    }
   ],
   "source": [
    "# Display of first 10 elements from dataframe:\n",
    "display(data.head(10))"
   ]
  },
  {
   "cell_type": "code",
   "execution_count": 13,
   "metadata": {},
   "outputs": [
    {
     "name": "stdout",
     "output_type": "stream",
     "text": [
      "The lenght's average in tweets: 116.815\n"
     ]
    }
   ],
   "source": [
    "# We extract the mean of lenghts:\n",
    "mean = np.mean(data['len'])\n",
    "\n",
    "print(\"The lenght's average in tweets: {}\".format(mean))"
   ]
  },
  {
   "cell_type": "code",
   "execution_count": 14,
   "metadata": {},
   "outputs": [
    {
     "name": "stdout",
     "output_type": "stream",
     "text": [
      "The tweet with more likes is: \n",
      "https://t.co/WqBj8iMQhx\n",
      "Number of likes: 206828\n",
      "23 characters.\n",
      "\n",
      "The tweet with more retweets is: \n",
      "RT @realDonaldTrump: https://t.co/J3aTzBG7ao\n",
      "Number of retweets: 51820\n",
      "44 characters.\n",
      "\n"
     ]
    }
   ],
   "source": [
    "# We extract the tweet with more FAVs and more RTs:\n",
    "\n",
    "fav_max = np.max(data['Likes'])\n",
    "rt_max  = np.max(data['RTs'])\n",
    "\n",
    "fav = data[data.Likes == fav_max].index[0]\n",
    "rt  = data[data.RTs == rt_max].index[0]\n",
    "\n",
    "# Max FAVs:\n",
    "print(\"The tweet with more likes is: \\n{}\".format(data['Tweets'][fav]))\n",
    "print(\"Number of likes: {}\".format(fav_max))\n",
    "print(\"{} characters.\\n\".format(data['len'][fav]))\n",
    "\n",
    "# Max RTs:\n",
    "print(\"The tweet with more retweets is: \\n{}\".format(data['Tweets'][rt]))\n",
    "print(\"Number of retweets: {}\".format(rt_max))\n",
    "print(\"{} characters.\\n\".format(data['len'][rt]))"
   ]
  },
  {
   "cell_type": "code",
   "execution_count": 15,
   "metadata": {},
   "outputs": [],
   "source": [
    "# We create time series for data:\n",
    "\n",
    "tlen = pd.Series(data=data['len'].values, index=data['Date'])\n",
    "tfav = pd.Series(data=data['Likes'].values, index=data['Date'])\n",
    "tret = pd.Series(data=data['RTs'].values, index=data['Date'])"
   ]
  },
  {
   "cell_type": "code",
   "execution_count": 16,
   "metadata": {},
   "outputs": [
    {
     "data": {
      "image/png": "[encoded data removed]",
      "text/plain": [
       "<Figure size 1152x288 with 1 Axes>"
      ]
     },
     "metadata": {
      "needs_background": "light"
     },
     "output_type": "display_data"
    }
   ],
   "source": [
    "# Lenghts along time:\n",
    "tlen.plot(figsize=(16,4), color='r');"
   ]
  },
  {
   "cell_type": "code",
   "execution_count": 17,
   "metadata": {},
   "outputs": [
    {
     "data": {
      "image/png": "[encoded data removed]",
      "text/plain": [
       "<Figure size 1152x288 with 1 Axes>"
      ]
     },
     "metadata": {
      "needs_background": "light"
     },
     "output_type": "display_data"
    }
   ],
   "source": [
    "# Likes vs retweets visualization:\n",
    "tfav.plot(figsize=(16,4), label=\"Likes\", legend=True)\n",
    "tret.plot(figsize=(16,4), label=\"Retweets\", legend=True);"
   ]
  },
  {
   "cell_type": "code",
   "execution_count": 18,
   "metadata": {},
   "outputs": [
    {
     "name": "stdout",
     "output_type": "stream",
     "text": [
      "Creation of content sources:\n",
      "* Twitter for iPhone\n"
     ]
    }
   ],
   "source": [
    "# We obtain all possible sources:\n",
    "sources = []\n",
    "for source in data['Source']:\n",
    "    if source not in sources:\n",
    "        sources.append(source)\n",
    "\n",
    "# We print sources list:\n",
    "print(\"Creation of content sources:\")\n",
    "for source in sources:\n",
    "    print(\"* {}\".format(source))"
   ]
  },
  {
   "cell_type": "code",
   "execution_count": 19,
   "metadata": {},
   "outputs": [
    {
     "data": {
      "image/png": "[encoded data removed]",
      "text/plain": [
       "<Figure size 432x432 with 1 Axes>"
      ]
     },
     "metadata": {},
     "output_type": "display_data"
    }
   ],
   "source": [
    "# We create a numpy vector mapped to labels:\n",
    "percent = np.zeros(len(sources))\n",
    "\n",
    "for source in data['Source']:\n",
    "    for index in range(len(sources)):\n",
    "        if source == sources[index]:\n",
    "            percent[index] += 1\n",
    "            pass\n",
    "\n",
    "percent /= 100\n",
    "\n",
    "# Pie chart:\n",
    "pie_chart = pd.Series(percent, index=sources, name='Sources')\n",
    "pie_chart.plot.pie(fontsize=11, autopct='%.2f', figsize=(6, 6));"
   ]
  },
  {
   "cell_type": "code",
   "execution_count": 21,
   "metadata": {},
   "outputs": [],
   "source": [
    "from textblob import TextBlob\n",
    "import re\n",
    "\n",
    "def clean_tweet(tweet):\n",
    "    '''\n",
    "    Utility function to clean the text in a tweet by removing \n",
    "    links and special characters using regex.\n",
    "    '''\n",
    "    return ' '.join(re.sub(\"(@[A-Za-z0-9]+)|([^0-9A-Za-z \\t])|(\\w+:\\/\\/\\S+)\", \" \", tweet).split())\n",
    "\n",
    "def analize_sentiment(tweet):\n",
    "    '''\n",
    "    Utility function to classify the polarity of a tweet\n",
    "    using textblob.\n",
    "    '''\n",
    "    analysis = TextBlob(clean_tweet(tweet))\n",
    "    if analysis.sentiment.polarity > 0:\n",
    "        return 1\n",
    "    elif analysis.sentiment.polarity == 0:\n",
    "        return 0\n",
    "    else:\n",
    "        return -1"
   ]
  },
  {
   "cell_type": "code",
   "execution_count": 22,
   "metadata": {},
   "outputs": [
    {
     "data": {
      "text/html": [
       "<div>\n",
       "<style scoped>\n",
       "    .dataframe tbody tr th:only-of-type {\n",
       "        vertical-align: middle;\n",
       "    }\n",
       "\n",
       "    .dataframe tbody tr th {\n",
       "        vertical-align: top;\n",
       "    }\n",
       "\n",
       "    .dataframe thead th {\n",
       "        text-align: right;\n",
       "    }\n",
       "</style>\n",
       "<table border=\"1\" class=\"dataframe\">\n",
       "  <thead>\n",
       "    <tr style=\"text-align: right;\">\n",
       "      <th></th>\n",
       "      <th>Tweets</th>\n",
       "      <th>len</th>\n",
       "      <th>ID</th>\n",
       "      <th>Date</th>\n",
       "      <th>Source</th>\n",
       "      <th>Likes</th>\n",
       "      <th>RTs</th>\n",
       "      <th>SA</th>\n",
       "    </tr>\n",
       "  </thead>\n",
       "  <tbody>\n",
       "    <tr>\n",
       "      <th>0</th>\n",
       "      <td>....between our two countries. I look forward ...</td>\n",
       "      <td>140</td>\n",
       "      <td>1172887122757525504</td>\n",
       "      <td>2019-09-14 14:57:35</td>\n",
       "      <td>Twitter for iPhone</td>\n",
       "      <td>26125</td>\n",
       "      <td>5542</td>\n",
       "      <td>0</td>\n",
       "    </tr>\n",
       "    <tr>\n",
       "      <th>1</th>\n",
       "      <td>I had a call today with Prime Minister Netanya...</td>\n",
       "      <td>140</td>\n",
       "      <td>1172887121704706048</td>\n",
       "      <td>2019-09-14 14:57:35</td>\n",
       "      <td>Twitter for iPhone</td>\n",
       "      <td>33052</td>\n",
       "      <td>7668</td>\n",
       "      <td>0</td>\n",
       "    </tr>\n",
       "    <tr>\n",
       "      <th>2</th>\n",
       "      <td>RT @RepDougCollins: #FISA oversight falls squa...</td>\n",
       "      <td>139</td>\n",
       "      <td>1172874441531043840</td>\n",
       "      <td>2019-09-14 14:07:12</td>\n",
       "      <td>Twitter for iPhone</td>\n",
       "      <td>0</td>\n",
       "      <td>6840</td>\n",
       "      <td>0</td>\n",
       "    </tr>\n",
       "    <tr>\n",
       "      <th>3</th>\n",
       "      <td>RT @RepMarkMeadows: The IG report on potential...</td>\n",
       "      <td>140</td>\n",
       "      <td>1172874318625280002</td>\n",
       "      <td>2019-09-14 14:06:43</td>\n",
       "      <td>Twitter for iPhone</td>\n",
       "      <td>0</td>\n",
       "      <td>7386</td>\n",
       "      <td>1</td>\n",
       "    </tr>\n",
       "    <tr>\n",
       "      <th>4</th>\n",
       "      <td>KEEP AMERICA GREAT!</td>\n",
       "      <td>19</td>\n",
       "      <td>1172860069760946178</td>\n",
       "      <td>2019-09-14 13:10:05</td>\n",
       "      <td>Twitter for iPhone</td>\n",
       "      <td>58927</td>\n",
       "      <td>12322</td>\n",
       "      <td>1</td>\n",
       "    </tr>\n",
       "    <tr>\n",
       "      <th>5</th>\n",
       "      <td>MAKE AMERICA GREAT AGAIN!</td>\n",
       "      <td>25</td>\n",
       "      <td>1172859963963822080</td>\n",
       "      <td>2019-09-14 13:09:40</td>\n",
       "      <td>Twitter for iPhone</td>\n",
       "      <td>118675</td>\n",
       "      <td>22142</td>\n",
       "      <td>1</td>\n",
       "    </tr>\n",
       "    <tr>\n",
       "      <th>6</th>\n",
       "      <td>94% Approval Rating in the Republican Party! T...</td>\n",
       "      <td>140</td>\n",
       "      <td>1172859771575328768</td>\n",
       "      <td>2019-09-14 13:08:54</td>\n",
       "      <td>Twitter for iPhone</td>\n",
       "      <td>36028</td>\n",
       "      <td>7679</td>\n",
       "      <td>1</td>\n",
       "    </tr>\n",
       "    <tr>\n",
       "      <th>7</th>\n",
       "      <td>RT @realDonaldTrump: The two big Congressional...</td>\n",
       "      <td>140</td>\n",
       "      <td>1172858789265072137</td>\n",
       "      <td>2019-09-14 13:05:00</td>\n",
       "      <td>Twitter for iPhone</td>\n",
       "      <td>0</td>\n",
       "      <td>17939</td>\n",
       "      <td>1</td>\n",
       "    </tr>\n",
       "    <tr>\n",
       "      <th>8</th>\n",
       "      <td>Who the hell is Joy-Ann Reid? Never met her, s...</td>\n",
       "      <td>140</td>\n",
       "      <td>1172858577951821825</td>\n",
       "      <td>2019-09-14 13:04:10</td>\n",
       "      <td>Twitter for iPhone</td>\n",
       "      <td>49038</td>\n",
       "      <td>11165</td>\n",
       "      <td>1</td>\n",
       "    </tr>\n",
       "    <tr>\n",
       "      <th>9</th>\n",
       "      <td>“A Very Stable Genius!” Thank you.</td>\n",
       "      <td>34</td>\n",
       "      <td>1172853679642333185</td>\n",
       "      <td>2019-09-14 12:44:42</td>\n",
       "      <td>Twitter for iPhone</td>\n",
       "      <td>44166</td>\n",
       "      <td>9380</td>\n",
       "      <td>1</td>\n",
       "    </tr>\n",
       "  </tbody>\n",
       "</table>\n",
       "</div>"
      ],
      "text/plain": [
       "                                              Tweets  len  \\\n",
       "0  ....between our two countries. I look forward ...  140   \n",
       "1  I had a call today with Prime Minister Netanya...  140   \n",
       "2  RT @RepDougCollins: #FISA oversight falls squa...  139   \n",
       "3  RT @RepMarkMeadows: The IG report on potential...  140   \n",
       "4                                KEEP AMERICA GREAT!   19   \n",
       "5                          MAKE AMERICA GREAT AGAIN!   25   \n",
       "6  94% Approval Rating in the Republican Party! T...  140   \n",
       "7  RT @realDonaldTrump: The two big Congressional...  140   \n",
       "8  Who the hell is Joy-Ann Reid? Never met her, s...  140   \n",
       "9                 “A Very Stable Genius!” Thank you.   34   \n",
       "\n",
       "                    ID                Date              Source   Likes    RTs  \\\n",
       "0  1172887122757525504 2019-09-14 14:57:35  Twitter for iPhone   26125   5542   \n",
       "1  1172887121704706048 2019-09-14 14:57:35  Twitter for iPhone   33052   7668   \n",
       "2  1172874441531043840 2019-09-14 14:07:12  Twitter for iPhone       0   6840   \n",
       "3  1172874318625280002 2019-09-14 14:06:43  Twitter for iPhone       0   7386   \n",
       "4  1172860069760946178 2019-09-14 13:10:05  Twitter for iPhone   58927  12322   \n",
       "5  1172859963963822080 2019-09-14 13:09:40  Twitter for iPhone  118675  22142   \n",
       "6  1172859771575328768 2019-09-14 13:08:54  Twitter for iPhone   36028   7679   \n",
       "7  1172858789265072137 2019-09-14 13:05:00  Twitter for iPhone       0  17939   \n",
       "8  1172858577951821825 2019-09-14 13:04:10  Twitter for iPhone   49038  11165   \n",
       "9  1172853679642333185 2019-09-14 12:44:42  Twitter for iPhone   44166   9380   \n",
       "\n",
       "   SA  \n",
       "0   0  \n",
       "1   0  \n",
       "2   0  \n",
       "3   1  \n",
       "4   1  \n",
       "5   1  \n",
       "6   1  \n",
       "7   1  \n",
       "8   1  \n",
       "9   1  "
      ]
     },
     "metadata": {},
     "output_type": "display_data"
    }
   ],
   "source": [
    "# We create a column with the result of the analysis:\n",
    "data['SA'] = np.array([ analize_sentiment(tweet) for tweet in data['Tweets'] ])\n",
    "\n",
    "# We display the updated dataframe with the new column:\n",
    "display(data.head(10))"
   ]
  },
  {
   "cell_type": "code",
   "execution_count": 23,
   "metadata": {},
   "outputs": [],
   "source": [
    "# We construct lists with classified tweets:\n",
    "\n",
    "pos_tweets = [ tweet for index, tweet in enumerate(data['Tweets']) if data['SA'][index] > 0]\n",
    "neu_tweets = [ tweet for index, tweet in enumerate(data['Tweets']) if data['SA'][index] == 0]\n",
    "neg_tweets = [ tweet for index, tweet in enumerate(data['Tweets']) if data['SA'][index] < 0]"
   ]
  },
  {
   "cell_type": "code",
   "execution_count": 24,
   "metadata": {},
   "outputs": [
    {
     "name": "stdout",
     "output_type": "stream",
     "text": [
      "Percentage of positive tweets: 49.5%\n",
      "Percentage of neutral tweets: 34.0%\n",
      "Percentage de negative tweets: 16.5%\n"
     ]
    }
   ],
   "source": [
    "# We print percentages:\n",
    "\n",
    "print(\"Percentage of positive tweets: {}%\".format(len(pos_tweets)*100/len(data['Tweets'])))\n",
    "print(\"Percentage of neutral tweets: {}%\".format(len(neu_tweets)*100/len(data['Tweets'])))\n",
    "print(\"Percentage de negative tweets: {}%\".format(len(neg_tweets)*100/len(data['Tweets'])))"
   ]
  }
 ],
 "metadata": {
  "kernelspec": {
   "display_name": "Python 3",
   "language": "python",
   "name": "python3"
  },
  "language_info": {
   "codemirror_mode": {
    "name": "ipython",
    "version": 3
   },
   "file_extension": ".py",
   "mimetype": "text/x-python",
   "name": "python",
   "nbconvert_exporter": "python",
   "pygments_lexer": "ipython3",
   "version": "3.7.6"
  }
 },
 "nbformat": 4,
 "nbformat_minor": 2
}
